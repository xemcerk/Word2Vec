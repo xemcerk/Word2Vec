{
 "nbformat": 4,
 "nbformat_minor": 2,
 "metadata": {
  "language_info": {
   "name": "python",
   "codemirror_mode": {
    "name": "ipython",
    "version": 3
   },
   "version": "3.7.5"
  },
  "orig_nbformat": 2,
  "file_extension": ".py",
  "mimetype": "text/x-python",
  "name": "python",
  "npconvert_exporter": "python",
  "pygments_lexer": "ipython3",
  "version": 3
 },
 "cells": [
  {
   "cell_type": "code",
   "execution_count": 1,
   "metadata": {},
   "outputs": [],
   "source": [
    "import os\n",
    "import pickle\n",
    "import random\n",
    "import argparse\n",
    "import torch as t\n",
    "import numpy as np\n",
    "import subprocess\n",
    "import codecs\n",
    "\n",
    "from tqdm import tqdm"
   ]
  },
  {
   "cell_type": "code",
   "execution_count": null,
   "metadata": {},
   "outputs": [],
   "source": [
    "f = codecs.open('./data/train.txt', \"a+\", 'utf-8')"
   ]
  },
  {
   "cell_type": "code",
   "execution_count": 6,
   "metadata": {},
   "outputs": [
    {
     "ename": "ValueError",
     "evalue": "'没戏' is not in list",
     "output_type": "error",
     "traceback": [
      "\u001b[0;31m---------------------------------------------------------------------------\u001b[0m",
      "\u001b[0;31mValueError\u001b[0m                                Traceback (most recent call last)",
      "\u001b[0;32m<ipython-input-6-27478ba5bbaa>\u001b[0m in \u001b[0;36m<module>\u001b[0;34m\u001b[0m\n\u001b[1;32m      2\u001b[0m \u001b[0mword_model\u001b[0m \u001b[0;34m=\u001b[0m \u001b[0mpickle\u001b[0m\u001b[0;34m.\u001b[0m\u001b[0mload\u001b[0m\u001b[0;34m(\u001b[0m\u001b[0mopen\u001b[0m\u001b[0;34m(\u001b[0m\u001b[0mos\u001b[0m\u001b[0;34m.\u001b[0m\u001b[0mpath\u001b[0m\u001b[0;34m.\u001b[0m\u001b[0mjoin\u001b[0m\u001b[0;34m(\u001b[0m\u001b[0;34m\"./data/\"\u001b[0m\u001b[0;34m,\u001b[0m \u001b[0;34m'idx2word.dat'\u001b[0m\u001b[0;34m)\u001b[0m\u001b[0;34m,\u001b[0m \u001b[0;34m'rb'\u001b[0m\u001b[0;34m)\u001b[0m\u001b[0;34m)\u001b[0m\u001b[0;34m\u001b[0m\u001b[0;34m\u001b[0m\u001b[0m\n\u001b[1;32m      3\u001b[0m \u001b[0;31m# word_idx = pickle.load(open(os.path.join(\"./data/\", 'word2idx.dat'), 'rb'))\u001b[0m\u001b[0;34m\u001b[0m\u001b[0;34m\u001b[0m\u001b[0;34m\u001b[0m\u001b[0m\n\u001b[0;32m----> 4\u001b[0;31m \u001b[0mprint\u001b[0m\u001b[0;34m(\u001b[0m\u001b[0mword_model\u001b[0m\u001b[0;34m.\u001b[0m\u001b[0mindex\u001b[0m\u001b[0;34m(\u001b[0m\u001b[0;34m\"没戏\"\u001b[0m\u001b[0;34m)\u001b[0m\u001b[0;34m)\u001b[0m\u001b[0;34m\u001b[0m\u001b[0;34m\u001b[0m\u001b[0m\n\u001b[0m",
      "\u001b[0;31mValueError\u001b[0m: '没戏' is not in list"
     ]
    }
   ],
   "source": [
    "# model = pickle.load(open(os.path.join(\"./data/\", 'idx2vec.dat'), 'rb'))\n",
    "word_model = pickle.load(open(os.path.join(\"./data/\", 'idx2word.dat'), 'rb'))\n",
    "# word_idx = pickle.load(open(os.path.join(\"./data/\", 'word2idx.dat'), 'rb'))\n",
    "print(word_model.index(\"没戏\"))"
   ]
  },
  {
   "cell_type": "code",
   "execution_count": 22,
   "metadata": {},
   "outputs": [],
   "source": [
    "WORD_PAIRS_FILEPATH = 'pku_sim_test.txt'\n",
    "N_WORD_PAIRS = subprocess.check_output('wc -l {}'.format(WORD_PAIRS_FILEPATH), shell=True)\n",
    "N_WORD_PAIRS = int(N_WORD_PAIRS.split()[0])"
   ]
  },
  {
   "cell_type": "code",
   "execution_count": 23,
   "metadata": {},
   "outputs": [],
   "source": [
    "word_pairs = []\n",
    "with open('pku_sim_test.txt','r') as f:\n",
    "    for i in range(N_WORD_PAIRS):\n",
    "        line = f.readline()\n",
    "        line = line.strip('\\n')\n",
    "        if(i ==0):\n",
    "            line = line.strip('\\ufeff')\n",
    "        word_pair = line.split('\\t',2)\n",
    "        word_pairs.append(word_pair)\n",
    "# print(word_pairs)"
   ]
  },
  {
   "cell_type": "code",
   "execution_count": 24,
   "metadata": {},
   "outputs": [
    {
     "ename": "AttributeError",
     "evalue": "'numpy.ndarray' object has no attribute 'wv'",
     "output_type": "error",
     "traceback": [
      "\u001b[0;31m---------------------------------------------------------------------------\u001b[0m",
      "\u001b[0;31mAttributeError\u001b[0m                            Traceback (most recent call last)",
      "\u001b[0;32m<ipython-input-24-c5297e12c3cb>\u001b[0m in \u001b[0;36m<module>\u001b[0;34m\u001b[0m\n\u001b[1;32m      7\u001b[0m     \u001b[0mword_list_a\u001b[0m\u001b[0;34m.\u001b[0m\u001b[0mappend\u001b[0m\u001b[0;34m(\u001b[0m\u001b[0mwa\u001b[0m\u001b[0;34m)\u001b[0m\u001b[0;34m\u001b[0m\u001b[0;34m\u001b[0m\u001b[0m\n\u001b[1;32m      8\u001b[0m     \u001b[0mword_list_b\u001b[0m\u001b[0;34m.\u001b[0m\u001b[0mappend\u001b[0m\u001b[0;34m(\u001b[0m\u001b[0mwb\u001b[0m\u001b[0;34m)\u001b[0m\u001b[0;34m\u001b[0m\u001b[0;34m\u001b[0m\u001b[0m\n\u001b[0;32m----> 9\u001b[0;31m     \u001b[0;32mif\u001b[0m\u001b[0;34m(\u001b[0m\u001b[0mwa\u001b[0m \u001b[0;32mnot\u001b[0m \u001b[0;32min\u001b[0m \u001b[0mmodel\u001b[0m\u001b[0;34m.\u001b[0m\u001b[0mwv\u001b[0m\u001b[0;34m.\u001b[0m\u001b[0mvocab\u001b[0m \u001b[0;32mor\u001b[0m \u001b[0mwb\u001b[0m \u001b[0;32mnot\u001b[0m \u001b[0;32min\u001b[0m \u001b[0mmodel\u001b[0m\u001b[0;34m.\u001b[0m\u001b[0mwv\u001b[0m\u001b[0;34m.\u001b[0m\u001b[0mvocab\u001b[0m\u001b[0;34m)\u001b[0m\u001b[0;34m:\u001b[0m\u001b[0;34m\u001b[0m\u001b[0;34m\u001b[0m\u001b[0m\n\u001b[0m\u001b[1;32m     10\u001b[0m         \u001b[0msim_list\u001b[0m\u001b[0;34m.\u001b[0m\u001b[0mappend\u001b[0m\u001b[0;34m(\u001b[0m\u001b[0;34m'OOV'\u001b[0m\u001b[0;34m)\u001b[0m\u001b[0;34m\u001b[0m\u001b[0;34m\u001b[0m\u001b[0m\n\u001b[1;32m     11\u001b[0m     \u001b[0;32melse\u001b[0m\u001b[0;34m:\u001b[0m\u001b[0;34m\u001b[0m\u001b[0;34m\u001b[0m\u001b[0m\n",
      "\u001b[0;31mAttributeError\u001b[0m: 'numpy.ndarray' object has no attribute 'wv'"
     ]
    }
   ],
   "source": [
    "sim_list = []\n",
    "word_list_a = []\n",
    "word_list_b = []\n",
    "for i in range(N_WORD_PAIRS):\n",
    "    wa = word_pairs[i][0]\n",
    "    wb = word_pairs[i][1]\n",
    "    word_list_a.append(wa)\n",
    "    word_list_b.append(wb)\n",
    "    if(wa not in model.wv.vocab or wb not in model.wv.vocab):\n",
    "        sim_list.append('OOV')\n",
    "    else:\n",
    "        sim = model.wv.similarity(wa,wb)\n",
    "        sim_list.append(sim)\n",
    "# print(sim_list)"
   ]
  },
  {
   "cell_type": "code",
   "execution_count": null,
   "metadata": {},
   "outputs": [
    {
     "evalue": "Error: Activating Python 3.7.4 64-bit ('miniconda3': virtualenv) to run Jupyter failed with Error: Command failed: . /usr/local/miniconda2/bin/activate && conda activate miniconda2 && echo 'e8b39361-0157-4923-80e1-22d70d46dee6' && python /home/smh/.vscode-server/extensions/ms-python.python-2019.11.50794/pythonFiles/printEnvVariables.py\nCould not find conda environment: miniconda2\nYou can list all discoverable environments with `conda info --envs`.\n\n.",
     "output_type": "error"
    }
   ],
   "source": [
    "data = {'word_list_a':word_list_a, 'word_list_b':word_list_b, 'similarity':sim_list}\n",
    "df = pd.DataFrame(data)\n",
    "df.to_csv('result.txt', header=None, index=None, sep='\\t', mode='a')"
   ]
  }
 ]
}